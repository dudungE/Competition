{
 "cells": [
  {
   "cell_type": "markdown",
   "metadata": {},
   "source": [
    "# 학습 데이터 분리"
   ]
  },
  {
   "cell_type": "code",
   "execution_count": 86,
   "metadata": {},
   "outputs": [
    {
     "data": {
      "text/html": [
       "<div>\n",
       "<style scoped>\n",
       "    .dataframe tbody tr th:only-of-type {\n",
       "        vertical-align: middle;\n",
       "    }\n",
       "\n",
       "    .dataframe tbody tr th {\n",
       "        vertical-align: top;\n",
       "    }\n",
       "\n",
       "    .dataframe thead th {\n",
       "        text-align: right;\n",
       "    }\n",
       "</style>\n",
       "<table border=\"1\" class=\"dataframe\">\n",
       "  <thead>\n",
       "    <tr style=\"text-align: right;\">\n",
       "      <th></th>\n",
       "      <th>Unnamed: 0</th>\n",
       "      <th>담보대출_대출용도_거주주택 구입</th>\n",
       "      <th>담보대출_대출용도_거주주택이외 부동산 구입</th>\n",
       "      <th>담보대출_대출용도_전(월)세 보증금 마련</th>\n",
       "      <th>담보대출_대출용도_사업자금 마련</th>\n",
       "      <th>담보대출_대출용도_생활비 마련</th>\n",
       "      <th>담보대출_대출기관_은행(2010년은 농수협 중앙회 제외)</th>\n",
       "      <th>담보대출_대출기관_저축은행</th>\n",
       "      <th>담보대출_대출기관_비은행금융기관(2010년은 농수협중앙회 포함)</th>\n",
       "      <th>신용대출_대출용도_거주주택 구입</th>\n",
       "      <th>...</th>\n",
       "      <th>가구주 만나이</th>\n",
       "      <th>가구주 성별</th>\n",
       "      <th>가구주교육정도 통합별</th>\n",
       "      <th>가구주 혼인상태</th>\n",
       "      <th>가구주 은퇴여부</th>\n",
       "      <th>입주형태</th>\n",
       "      <th>수도권여부</th>\n",
       "      <th>가구주 직업(대분류)</th>\n",
       "      <th>가구주 종사상지위</th>\n",
       "      <th>부실가계</th>\n",
       "    </tr>\n",
       "  </thead>\n",
       "  <tbody>\n",
       "    <tr>\n",
       "      <th>0</th>\n",
       "      <td>0</td>\n",
       "      <td>0</td>\n",
       "      <td>0.0</td>\n",
       "      <td>1</td>\n",
       "      <td>0.0</td>\n",
       "      <td>0</td>\n",
       "      <td>1.0</td>\n",
       "      <td>0</td>\n",
       "      <td>0.0</td>\n",
       "      <td>0</td>\n",
       "      <td>...</td>\n",
       "      <td>56</td>\n",
       "      <td>0</td>\n",
       "      <td>1</td>\n",
       "      <td>1</td>\n",
       "      <td>1</td>\n",
       "      <td>0</td>\n",
       "      <td>1</td>\n",
       "      <td>0</td>\n",
       "      <td>1</td>\n",
       "      <td>1</td>\n",
       "    </tr>\n",
       "    <tr>\n",
       "      <th>1</th>\n",
       "      <td>1</td>\n",
       "      <td>0</td>\n",
       "      <td>0.0</td>\n",
       "      <td>0</td>\n",
       "      <td>0.0</td>\n",
       "      <td>0</td>\n",
       "      <td>0.0</td>\n",
       "      <td>0</td>\n",
       "      <td>0.0</td>\n",
       "      <td>0</td>\n",
       "      <td>...</td>\n",
       "      <td>64</td>\n",
       "      <td>1</td>\n",
       "      <td>0</td>\n",
       "      <td>0</td>\n",
       "      <td>0</td>\n",
       "      <td>0</td>\n",
       "      <td>1</td>\n",
       "      <td>0</td>\n",
       "      <td>0</td>\n",
       "      <td>0</td>\n",
       "    </tr>\n",
       "    <tr>\n",
       "      <th>2</th>\n",
       "      <td>2</td>\n",
       "      <td>0</td>\n",
       "      <td>0.0</td>\n",
       "      <td>0</td>\n",
       "      <td>0.0</td>\n",
       "      <td>0</td>\n",
       "      <td>0.0</td>\n",
       "      <td>0</td>\n",
       "      <td>0.0</td>\n",
       "      <td>0</td>\n",
       "      <td>...</td>\n",
       "      <td>84</td>\n",
       "      <td>0</td>\n",
       "      <td>0</td>\n",
       "      <td>1</td>\n",
       "      <td>0</td>\n",
       "      <td>1</td>\n",
       "      <td>1</td>\n",
       "      <td>0</td>\n",
       "      <td>0</td>\n",
       "      <td>0</td>\n",
       "    </tr>\n",
       "    <tr>\n",
       "      <th>3</th>\n",
       "      <td>3</td>\n",
       "      <td>1</td>\n",
       "      <td>0.0</td>\n",
       "      <td>0</td>\n",
       "      <td>0.0</td>\n",
       "      <td>0</td>\n",
       "      <td>1.0</td>\n",
       "      <td>0</td>\n",
       "      <td>0.0</td>\n",
       "      <td>0</td>\n",
       "      <td>...</td>\n",
       "      <td>57</td>\n",
       "      <td>0</td>\n",
       "      <td>0</td>\n",
       "      <td>1</td>\n",
       "      <td>1</td>\n",
       "      <td>1</td>\n",
       "      <td>1</td>\n",
       "      <td>0</td>\n",
       "      <td>1</td>\n",
       "      <td>0</td>\n",
       "    </tr>\n",
       "    <tr>\n",
       "      <th>4</th>\n",
       "      <td>4</td>\n",
       "      <td>1</td>\n",
       "      <td>0.0</td>\n",
       "      <td>0</td>\n",
       "      <td>0.0</td>\n",
       "      <td>0</td>\n",
       "      <td>1.0</td>\n",
       "      <td>0</td>\n",
       "      <td>0.0</td>\n",
       "      <td>0</td>\n",
       "      <td>...</td>\n",
       "      <td>56</td>\n",
       "      <td>0</td>\n",
       "      <td>1</td>\n",
       "      <td>1</td>\n",
       "      <td>1</td>\n",
       "      <td>1</td>\n",
       "      <td>1</td>\n",
       "      <td>0</td>\n",
       "      <td>1</td>\n",
       "      <td>0</td>\n",
       "    </tr>\n",
       "    <tr>\n",
       "      <th>...</th>\n",
       "      <td>...</td>\n",
       "      <td>...</td>\n",
       "      <td>...</td>\n",
       "      <td>...</td>\n",
       "      <td>...</td>\n",
       "      <td>...</td>\n",
       "      <td>...</td>\n",
       "      <td>...</td>\n",
       "      <td>...</td>\n",
       "      <td>...</td>\n",
       "      <td>...</td>\n",
       "      <td>...</td>\n",
       "      <td>...</td>\n",
       "      <td>...</td>\n",
       "      <td>...</td>\n",
       "      <td>...</td>\n",
       "      <td>...</td>\n",
       "      <td>...</td>\n",
       "      <td>...</td>\n",
       "      <td>...</td>\n",
       "      <td>...</td>\n",
       "    </tr>\n",
       "    <tr>\n",
       "      <th>18401</th>\n",
       "      <td>18401</td>\n",
       "      <td>0</td>\n",
       "      <td>0.0</td>\n",
       "      <td>0</td>\n",
       "      <td>0.0</td>\n",
       "      <td>0</td>\n",
       "      <td>0.0</td>\n",
       "      <td>0</td>\n",
       "      <td>0.0</td>\n",
       "      <td>0</td>\n",
       "      <td>...</td>\n",
       "      <td>52</td>\n",
       "      <td>1</td>\n",
       "      <td>1</td>\n",
       "      <td>0</td>\n",
       "      <td>1</td>\n",
       "      <td>0</td>\n",
       "      <td>0</td>\n",
       "      <td>0</td>\n",
       "      <td>1</td>\n",
       "      <td>0</td>\n",
       "    </tr>\n",
       "    <tr>\n",
       "      <th>18402</th>\n",
       "      <td>18402</td>\n",
       "      <td>1</td>\n",
       "      <td>0.0</td>\n",
       "      <td>0</td>\n",
       "      <td>0.0</td>\n",
       "      <td>0</td>\n",
       "      <td>1.0</td>\n",
       "      <td>0</td>\n",
       "      <td>0.0</td>\n",
       "      <td>0</td>\n",
       "      <td>...</td>\n",
       "      <td>37</td>\n",
       "      <td>0</td>\n",
       "      <td>1</td>\n",
       "      <td>1</td>\n",
       "      <td>1</td>\n",
       "      <td>1</td>\n",
       "      <td>0</td>\n",
       "      <td>0</td>\n",
       "      <td>1</td>\n",
       "      <td>0</td>\n",
       "    </tr>\n",
       "    <tr>\n",
       "      <th>18403</th>\n",
       "      <td>18403</td>\n",
       "      <td>0</td>\n",
       "      <td>0.0</td>\n",
       "      <td>1</td>\n",
       "      <td>0.0</td>\n",
       "      <td>0</td>\n",
       "      <td>0.0</td>\n",
       "      <td>0</td>\n",
       "      <td>1.0</td>\n",
       "      <td>0</td>\n",
       "      <td>...</td>\n",
       "      <td>40</td>\n",
       "      <td>0</td>\n",
       "      <td>1</td>\n",
       "      <td>1</td>\n",
       "      <td>1</td>\n",
       "      <td>0</td>\n",
       "      <td>0</td>\n",
       "      <td>0</td>\n",
       "      <td>1</td>\n",
       "      <td>0</td>\n",
       "    </tr>\n",
       "    <tr>\n",
       "      <th>18404</th>\n",
       "      <td>18404</td>\n",
       "      <td>0</td>\n",
       "      <td>0.0</td>\n",
       "      <td>0</td>\n",
       "      <td>0.0</td>\n",
       "      <td>0</td>\n",
       "      <td>0.0</td>\n",
       "      <td>0</td>\n",
       "      <td>0.0</td>\n",
       "      <td>0</td>\n",
       "      <td>...</td>\n",
       "      <td>64</td>\n",
       "      <td>1</td>\n",
       "      <td>0</td>\n",
       "      <td>1</td>\n",
       "      <td>1</td>\n",
       "      <td>0</td>\n",
       "      <td>0</td>\n",
       "      <td>0</td>\n",
       "      <td>0</td>\n",
       "      <td>0</td>\n",
       "    </tr>\n",
       "    <tr>\n",
       "      <th>18405</th>\n",
       "      <td>18405</td>\n",
       "      <td>1</td>\n",
       "      <td>0.0</td>\n",
       "      <td>0</td>\n",
       "      <td>0.0</td>\n",
       "      <td>0</td>\n",
       "      <td>1.0</td>\n",
       "      <td>0</td>\n",
       "      <td>0.0</td>\n",
       "      <td>0</td>\n",
       "      <td>...</td>\n",
       "      <td>43</td>\n",
       "      <td>0</td>\n",
       "      <td>1</td>\n",
       "      <td>1</td>\n",
       "      <td>1</td>\n",
       "      <td>1</td>\n",
       "      <td>0</td>\n",
       "      <td>0</td>\n",
       "      <td>1</td>\n",
       "      <td>0</td>\n",
       "    </tr>\n",
       "  </tbody>\n",
       "</table>\n",
       "<p>18406 rows × 31 columns</p>\n",
       "</div>"
      ],
      "text/plain": [
       "       Unnamed: 0  담보대출_대출용도_거주주택 구입  담보대출_대출용도_거주주택이외 부동산 구입  \\\n",
       "0               0                  0                      0.0   \n",
       "1               1                  0                      0.0   \n",
       "2               2                  0                      0.0   \n",
       "3               3                  1                      0.0   \n",
       "4               4                  1                      0.0   \n",
       "...           ...                ...                      ...   \n",
       "18401       18401                  0                      0.0   \n",
       "18402       18402                  1                      0.0   \n",
       "18403       18403                  0                      0.0   \n",
       "18404       18404                  0                      0.0   \n",
       "18405       18405                  1                      0.0   \n",
       "\n",
       "       담보대출_대출용도_전(월)세 보증금 마련  담보대출_대출용도_사업자금 마련  담보대출_대출용도_생활비 마련  \\\n",
       "0                           1                0.0                 0   \n",
       "1                           0                0.0                 0   \n",
       "2                           0                0.0                 0   \n",
       "3                           0                0.0                 0   \n",
       "4                           0                0.0                 0   \n",
       "...                       ...                ...               ...   \n",
       "18401                       0                0.0                 0   \n",
       "18402                       0                0.0                 0   \n",
       "18403                       1                0.0                 0   \n",
       "18404                       0                0.0                 0   \n",
       "18405                       0                0.0                 0   \n",
       "\n",
       "       담보대출_대출기관_은행(2010년은 농수협 중앙회 제외)  담보대출_대출기관_저축은행  \\\n",
       "0                                  1.0               0   \n",
       "1                                  0.0               0   \n",
       "2                                  0.0               0   \n",
       "3                                  1.0               0   \n",
       "4                                  1.0               0   \n",
       "...                                ...             ...   \n",
       "18401                              0.0               0   \n",
       "18402                              1.0               0   \n",
       "18403                              0.0               0   \n",
       "18404                              0.0               0   \n",
       "18405                              1.0               0   \n",
       "\n",
       "       담보대출_대출기관_비은행금융기관(2010년은 농수협중앙회 포함)  신용대출_대출용도_거주주택 구입  ...  가구주 만나이  \\\n",
       "0                                      0.0                  0  ...       56   \n",
       "1                                      0.0                  0  ...       64   \n",
       "2                                      0.0                  0  ...       84   \n",
       "3                                      0.0                  0  ...       57   \n",
       "4                                      0.0                  0  ...       56   \n",
       "...                                    ...                ...  ...      ...   \n",
       "18401                                  0.0                  0  ...       52   \n",
       "18402                                  0.0                  0  ...       37   \n",
       "18403                                  1.0                  0  ...       40   \n",
       "18404                                  0.0                  0  ...       64   \n",
       "18405                                  0.0                  0  ...       43   \n",
       "\n",
       "       가구주 성별  가구주교육정도 통합별  가구주 혼인상태  가구주 은퇴여부  입주형태  수도권여부  가구주 직업(대분류)  \\\n",
       "0           0            1         1         1     0      1            0   \n",
       "1           1            0         0         0     0      1            0   \n",
       "2           0            0         1         0     1      1            0   \n",
       "3           0            0         1         1     1      1            0   \n",
       "4           0            1         1         1     1      1            0   \n",
       "...       ...          ...       ...       ...   ...    ...          ...   \n",
       "18401       1            1         0         1     0      0            0   \n",
       "18402       0            1         1         1     1      0            0   \n",
       "18403       0            1         1         1     0      0            0   \n",
       "18404       1            0         1         1     0      0            0   \n",
       "18405       0            1         1         1     1      0            0   \n",
       "\n",
       "       가구주 종사상지위  부실가계  \n",
       "0              1     1  \n",
       "1              0     0  \n",
       "2              0     0  \n",
       "3              1     0  \n",
       "4              1     0  \n",
       "...          ...   ...  \n",
       "18401          1     0  \n",
       "18402          1     0  \n",
       "18403          1     0  \n",
       "18404          0     0  \n",
       "18405          1     0  \n",
       "\n",
       "[18406 rows x 31 columns]"
      ]
     },
     "execution_count": 86,
     "metadata": {},
     "output_type": "execute_result"
    }
   ],
   "source": [
    "import pandas as pd\n",
    "import numpy as np\n",
    "import warnings\n",
    "warnings.filterwarnings(\"ignore\")\n",
    "\n",
    "df = pd.read_csv('../data/2019가계부채/data_fin.csv', engine='python')\n",
    "#df = pd.read_csv('../data/2020가계부채/data_fin_encoding.csv', engine='python')\n",
    "# df=df.drop(columns='Unnamed: 0')\n",
    "df.columns\n",
    "df"
   ]
  },
  {
   "cell_type": "code",
   "execution_count": 87,
   "metadata": {},
   "outputs": [],
   "source": [
    "df=df.drop(['부채','자산','순자산액', '가구주 직업(대분류)','가구주 만나이'],axis=1)"
   ]
  },
  {
   "cell_type": "code",
   "execution_count": 88,
   "metadata": {},
   "outputs": [],
   "source": [
    "from sklearn.model_selection import train_test_split\n",
    "import warnings\n",
    "warnings.filterwarnings('ignore')\n",
    "\n",
    "X = df.iloc[:,1:-1]\n",
    "Y = df.iloc[:,-1]\n",
    "\n",
    "# 학습과 테스트 데이터 셋으로 분리\n",
    "X_train , X_test , y_train , y_test = train_test_split(X, Y,\n",
    "                                                       test_size=0.3,  random_state=369, stratify=Y)"
   ]
  },
  {
   "cell_type": "code",
   "execution_count": 90,
   "metadata": {},
   "outputs": [
    {
     "data": {
      "text/plain": [
       "Index(['담보대출_대출용도_거주주택 구입', '담보대출_대출용도_거주주택이외 부동산 구입',\n",
       "       '담보대출_대출용도_전(월)세 보증금 마련', '담보대출_대출용도_사업자금 마련', '담보대출_대출용도_생활비 마련',\n",
       "       '담보대출_대출기관_은행(2010년은 농수협 중앙회 제외)', '담보대출_대출기관_저축은행',\n",
       "       '담보대출_대출기관_비은행금융기관(2010년은 농수협중앙회 포함)', '신용대출_대출용도_거주주택 구입',\n",
       "       '신용대출_대출용도_거주주택이외 부동산 구입', '신용대출_대출용도_전(월)세 보증금 마련',\n",
       "       '신용대출_대출용도_사업자금 마련', '신용대출_대출용도_생활비 마련',\n",
       "       '신용대출_대출기관_은행(2010년은 농수협 중앙회 제외)', '신용대출_대출기관_저축은행',\n",
       "       '신용대출_대출기관_비은행금융기관(2010년은 농수협중앙회 포함)', '가구원수', '가구주 성별', '가구주교육정도 통합별',\n",
       "       '가구주 혼인상태', '가구주 은퇴여부', '입주형태', '수도권여부', '가구주 종사상지위'],\n",
       "      dtype='object')"
      ]
     },
     "execution_count": 90,
     "metadata": {},
     "output_type": "execute_result"
    }
   ],
   "source": [
    "# df=df.drop(['순자산액','가구주 혼인상태',\"부채\",\"자산\"],axis=1)\n",
    "df.columns\n",
    "X_train.columns"
   ]
  },
  {
   "cell_type": "code",
   "execution_count": 42,
   "metadata": {},
   "outputs": [],
   "source": [
    "# df['가구주 직업(대분류)'].value_counts()"
   ]
  },
  {
   "cell_type": "markdown",
   "metadata": {},
   "source": [
    "# 2019데이터나누기"
   ]
  },
  {
   "cell_type": "code",
   "execution_count": 787,
   "metadata": {},
   "outputs": [
    {
     "name": "stdout",
     "output_type": "stream",
     "text": [
      "SMOTE 적용 전 학습용 피처/레이블 데이터 세트:  (12644, 24) (12644,)\n",
      "SMOTE 적용 후 학습용 피처/레이블 데이터 세트:  (23336, 24) (23336,)\n",
      "SMOTE 적용 후 레이블 값 분포: \n",
      " 0    11668\n",
      "1    11668\n",
      "Name: 부실가계, dtype: int64\n",
      "-----------------------------------\n",
      "오차 행렬\n",
      "[[4236  765]\n",
      " [ 129  290]]\n",
      "정확도: 0.8351, 정밀도: 0.2749, 재현율: 0.6921,    F1: 0.3935, AUC:0.7696\n",
      "-----------------------------------\n",
      "오차 행렬\n",
      "[[4251  750]\n",
      " [ 111  308]]\n",
      "정확도: 0.8411, 정밀도: 0.2911, 재현율: 0.7351,    F1: 0.4171, AUC:0.7926\n"
     ]
    }
   ],
   "source": [
    "# MinMaxScaler\n",
    "from sklearn.preprocessing import MinMaxScaler\n",
    "\n",
    "scaler = MinMaxScaler()\n",
    "scaler.fit(X_train)\n",
    "\n",
    "X_train = scaler.transform(X_train)\n",
    "X_test = scaler.transform(X_test)\n",
    "\n",
    "\n",
    "from imblearn.over_sampling import SMOTE\n",
    "\n",
    "smote = SMOTE(random_state=369)\n",
    "X_train_over, y_train_over = smote.fit_sample(X_train, y_train)\n",
    "print('SMOTE 적용 전 학습용 피처/레이블 데이터 세트: ', X_train.shape, y_train.shape)\n",
    "print('SMOTE 적용 후 학습용 피처/레이블 데이터 세트: ', X_train_over.shape, y_train_over.shape)\n",
    "print('SMOTE 적용 후 레이블 값 분포: \\n', pd.Series(y_train_over).value_counts())\n",
    "print('-----------------------------------')\n",
    "lr_clf = LogisticRegression()\n",
    "# ftr_train과 tgt_train 인자값이 SMOTE 증식된 X_train_over와 y_train_over로 변경됨에 유의\n",
    "get_model_train_eval(lr_clf, ftr_train=X_train_over, ftr_test=X_test, tgt_train=y_train_over, tgt_test=y_test)\n",
    "print('-----------------------------------')\n",
    "lr_clf = LogisticRegression(C=0.1, penalty='none')\n",
    "# ftr_train과 tgt_train 인자값이 SMOTE 증식된 X_train_over와 y_train_over로 변경됨에 유의\n",
    "get_model_train_eval(lr_clf, ftr_train=X_train_over, ftr_test=X_test, tgt_train=y_train_over, tgt_test=y_test)"
   ]
  },
  {
   "cell_type": "code",
   "execution_count": 75,
   "metadata": {},
   "outputs": [
    {
     "data": {
      "text/plain": [
       "Index(['Unnamed: 0', '담보대출_대출용도_거주주택 구입', '담보대출_대출용도_거주주택이외 부동산 구입',\n",
       "       '담보대출_대출용도_전(월)세 보증금 마련', '담보대출_대출용도_사업자금 마련', '담보대출_대출용도_생활비 마련',\n",
       "       '담보대출_대출기관_은행(2010년은 농수협 중앙회 제외)', '담보대출_대출기관_저축은행',\n",
       "       '담보대출_대출기관_비은행금융기관(2010년은 농수협중앙회 포함)', '신용대출_대출용도_거주주택 구입',\n",
       "       '신용대출_대출용도_거주주택이외 부동산 구입', '신용대출_대출용도_전(월)세 보증금 마련',\n",
       "       '신용대출_대출용도_사업자금 마련', '신용대출_대출용도_생활비 마련',\n",
       "       '신용대출_대출기관_은행(2010년은 농수협 중앙회 제외)', '신용대출_대출기관_저축은행',\n",
       "       '신용대출_대출기관_비은행금융기관(2010년은 농수협중앙회 포함)', '가구원수', '가구주 성별', '가구주교육정도 통합별',\n",
       "       '가구주 혼인상태', '가구주 은퇴여부', '입주형태', '수도권여부', '가구주 종사상지위', '부실가계'],\n",
       "      dtype='object')"
      ]
     },
     "execution_count": 75,
     "metadata": {},
     "output_type": "execute_result"
    }
   ],
   "source": [
    "df.columns"
   ]
  },
  {
   "cell_type": "code",
   "execution_count": 501,
   "metadata": {},
   "outputs": [],
   "source": [
    "#X_train"
   ]
  },
  {
   "cell_type": "code",
   "execution_count": 91,
   "metadata": {},
   "outputs": [
    {
     "data": {
      "text/plain": [
       "MinMaxScaler()"
      ]
     },
     "execution_count": 91,
     "metadata": {},
     "output_type": "execute_result"
    }
   ],
   "source": [
    "# MinMaxScaler\n",
    "from sklearn.preprocessing import MinMaxScaler\n",
    "\n",
    "scaler = MinMaxScaler()\n",
    "scaler.fit(X_train)"
   ]
  },
  {
   "cell_type": "markdown",
   "metadata": {},
   "source": [
    "# SMOTE 이전 모델"
   ]
  },
  {
   "cell_type": "code",
   "execution_count": 77,
   "metadata": {},
   "outputs": [],
   "source": [
    "import pandas as pd\n",
    "import numpy as np \n",
    "import matplotlib.pyplot as plt\n",
    "import warnings\n",
    "warnings.filterwarnings(\"ignore\")\n",
    "%matplotlib inline"
   ]
  },
  {
   "cell_type": "code",
   "execution_count": 78,
   "metadata": {},
   "outputs": [],
   "source": [
    "# df.info()"
   ]
  },
  {
   "cell_type": "code",
   "execution_count": 79,
   "metadata": {},
   "outputs": [
    {
     "name": "stdout",
     "output_type": "stream",
     "text": [
      "학습 데이터 레이블 값 비율\n",
      "0    92.424713\n",
      "1     7.575287\n",
      "Name: 부실가계, dtype: float64\n",
      "테스트 데이터 레이블 값 비율\n",
      "0    92.41217\n",
      "1     7.58783\n",
      "Name: 부실가계, dtype: float64\n"
     ]
    }
   ],
   "source": [
    "print('학습 데이터 레이블 값 비율')\n",
    "print(y_train.value_counts()/y_train.shape[0] * 100)\n",
    "print('테스트 데이터 레이블 값 비율')\n",
    "print(y_test.value_counts()/y_test.shape[0] * 100)"
   ]
  },
  {
   "cell_type": "code",
   "execution_count": 47,
   "metadata": {},
   "outputs": [
    {
     "name": "stdout",
     "output_type": "stream",
     "text": [
      "SMOTE 적용 전 레이블 값 분포: \n",
      " 0    11908\n",
      "1      976\n",
      "Name: 부실가계, dtype: int64\n"
     ]
    }
   ],
   "source": [
    "# print(y_train.value_counts())\n",
    "# print(y_test.value_counts())\n",
    "\n",
    "print('SMOTE 적용 전 레이블 값 분포: \\n', pd.Series(y_train).value_counts())"
   ]
  },
  {
   "cell_type": "code",
   "execution_count": 48,
   "metadata": {},
   "outputs": [],
   "source": [
    "from sklearn.metrics import confusion_matrix, accuracy_score, precision_score, recall_score, f1_score\n",
    "from sklearn.metrics import roc_auc_score\n",
    "\n",
    "# get_clf_eval 함수로 성능지표들 한눈에 보기\n",
    "\n",
    "def get_clf_eval(y_test, pred):\n",
    "    confusion = confusion_matrix( y_test, pred)\n",
    "    accuracy = accuracy_score(y_test , pred)\n",
    "    precision = precision_score(y_test , pred)\n",
    "    recall = recall_score(y_test , pred)\n",
    "    f1 = f1_score(y_test,pred)\n",
    "    # ROC-AUC 추가 \n",
    "    roc_auc = roc_auc_score(y_test, pred)\n",
    "    print('오차 행렬')\n",
    "    print(confusion)\n",
    "    # ROC-AUC print 추가\n",
    "    print('정확도: {0:.4f}, 정밀도: {1:.4f}, 재현율: {2:.4f},\\\n",
    "    F1: {3:.4f}, AUC:{4:.4f}'.format(accuracy, precision, recall, f1, roc_auc))\n",
    "    \n",
    "    \n",
    "# get_model_train_eval 함수로 모델 학습과 성능지표(get_clf_eval)한번에 해결\n",
    "def get_model_train_eval(model, ftr_train=None, ftr_test=None, tgt_train=None, tgt_test=None):\n",
    "    model.fit(ftr_train, tgt_train)\n",
    "    pred = model.predict(ftr_test)\n",
    "    get_clf_eval(tgt_test, pred)    "
   ]
  },
  {
   "cell_type": "code",
   "execution_count": 49,
   "metadata": {},
   "outputs": [
    {
     "name": "stdout",
     "output_type": "stream",
     "text": [
      "오차 행렬\n",
      "[[4812  291]\n",
      " [ 295  124]]\n",
      "정확도: 0.8939, 정밀도: 0.2988, 재현율: 0.2959,    F1: 0.2974, AUC:0.6195\n"
     ]
    }
   ],
   "source": [
    "from sklearn.tree import DecisionTreeClassifier\n",
    "from sklearn.model_selection import train_test_split\n",
    "\n",
    "# DecisionTree Classifier 생성\n",
    "dt_clf = DecisionTreeClassifier(random_state=369)\n",
    "\n",
    "dt_clf.fit(X_train, y_train)\n",
    "dt_pred = dt_clf.predict(X_test)\n",
    "\n",
    "# get_clf_eval() 함수를 이용하여 평가 수행. \n",
    "get_clf_eval(y_test, dt_pred) "
   ]
  },
  {
   "cell_type": "code",
   "execution_count": 50,
   "metadata": {},
   "outputs": [
    {
     "name": "stdout",
     "output_type": "stream",
     "text": [
      "오차 행렬\n",
      "[[5003  100]\n",
      " [ 345   74]]\n",
      "정확도: 0.9194, 정밀도: 0.4253, 재현율: 0.1766,    F1: 0.2496, AUC:0.5785\n"
     ]
    }
   ],
   "source": [
    "from lightgbm import LGBMClassifier\n",
    "\n",
    "lgbm_clf = LGBMClassifier(n_estimators=1000, num_leaves=64, n_jobs=-1, boost_from_average=False)\n",
    "\n",
    "# get_model_train_eval 함수이용하여 학습 및 평가까지 한번에\n",
    "get_model_train_eval(lgbm_clf, ftr_train=X_train, ftr_test=X_test, tgt_train=y_train, tgt_test=y_test)"
   ]
  },
  {
   "cell_type": "code",
   "execution_count": 51,
   "metadata": {},
   "outputs": [
    {
     "name": "stdout",
     "output_type": "stream",
     "text": [
      "오차 행렬\n",
      "[[5064   39]\n",
      " [ 384   35]]\n",
      "정확도: 0.9234, 정밀도: 0.4730, 재현율: 0.0835,    F1: 0.1420, AUC:0.5379\n"
     ]
    }
   ],
   "source": [
    "from sklearn.linear_model import LogisticRegression\n",
    "\n",
    "# LogisticRegresstion\n",
    "lr_clf = LogisticRegression(C=0.01, penalty='none')\n",
    "\n",
    "lr_clf.fit(X_train, y_train)\n",
    "lr_pred = lr_clf.predict(X_test)\n",
    "\n",
    "# get_clf_eval() 함수를 이용하여 평가 수행. \n",
    "get_clf_eval(y_test, lr_pred)"
   ]
  },
  {
   "cell_type": "code",
   "execution_count": 17,
   "metadata": {},
   "outputs": [
    {
     "name": "stdout",
     "output_type": "stream",
     "text": [
      "오차 행렬\n",
      "[[5068   35]\n",
      " [ 407   12]]\n",
      "정확도: 0.9200, 정밀도: 0.2553, 재현율: 0.0286,    F1: 0.0515, AUC:0.5109\n"
     ]
    }
   ],
   "source": [
    "from sklearn.neighbors import KNeighborsClassifier\n",
    "\n",
    "# k-NN 분류기 생성\n",
    "knn_clf = KNeighborsClassifier(n_neighbors=7)\n",
    "\n",
    "get_model_train_eval(knn_clf, ftr_train=X_train, ftr_test=X_test,\n",
    "                  tgt_train=y_train, tgt_test=y_test)"
   ]
  },
  {
   "cell_type": "markdown",
   "metadata": {},
   "source": [
    "# SMOTE 이후 모델"
   ]
  },
  {
   "cell_type": "code",
   "execution_count": 92,
   "metadata": {
    "scrolled": false
   },
   "outputs": [
    {
     "name": "stdout",
     "output_type": "stream",
     "text": [
      "SMOTE 적용 전 학습용 피처/레이블 데이터 세트:  (12884, 24) (12884,)\n",
      "SMOTE 적용 후 학습용 피처/레이블 데이터 세트:  (23816, 24) (23816,)\n",
      "SMOTE 적용 후 레이블 값 분포: \n",
      " 0    11908\n",
      "1    11908\n",
      "Name: 부실가계, dtype: int64\n"
     ]
    }
   ],
   "source": [
    "from imblearn.over_sampling import SMOTE\n",
    "\n",
    "smote = SMOTE(random_state=369)\n",
    "X_train_over, y_train_over = smote.fit_sample(X_train, y_train)\n",
    "print('SMOTE 적용 전 학습용 피처/레이블 데이터 세트: ', X_train.shape, y_train.shape)\n",
    "print('SMOTE 적용 후 학습용 피처/레이블 데이터 세트: ', X_train_over.shape, y_train_over.shape)\n",
    "print('SMOTE 적용 후 레이블 값 분포: \\n', pd.Series(y_train_over).value_counts())"
   ]
  },
  {
   "cell_type": "code",
   "execution_count": 93,
   "metadata": {},
   "outputs": [
    {
     "data": {
      "text/plain": [
       "Index(['담보대출_대출용도_거주주택 구입', '담보대출_대출용도_거주주택이외 부동산 구입',\n",
       "       '담보대출_대출용도_전(월)세 보증금 마련', '담보대출_대출용도_사업자금 마련', '담보대출_대출용도_생활비 마련',\n",
       "       '담보대출_대출기관_은행(2010년은 농수협 중앙회 제외)', '담보대출_대출기관_저축은행',\n",
       "       '담보대출_대출기관_비은행금융기관(2010년은 농수협중앙회 포함)', '신용대출_대출용도_거주주택 구입',\n",
       "       '신용대출_대출용도_거주주택이외 부동산 구입', '신용대출_대출용도_전(월)세 보증금 마련',\n",
       "       '신용대출_대출용도_사업자금 마련', '신용대출_대출용도_생활비 마련',\n",
       "       '신용대출_대출기관_은행(2010년은 농수협 중앙회 제외)', '신용대출_대출기관_저축은행',\n",
       "       '신용대출_대출기관_비은행금융기관(2010년은 농수협중앙회 포함)', '가구원수', '가구주 성별', '가구주교육정도 통합별',\n",
       "       '가구주 혼인상태', '가구주 은퇴여부', '입주형태', '수도권여부', '가구주 종사상지위'],\n",
       "      dtype='object')"
      ]
     },
     "execution_count": 93,
     "metadata": {},
     "output_type": "execute_result"
    }
   ],
   "source": [
    "X_train.columns"
   ]
  },
  {
   "cell_type": "code",
   "execution_count": 94,
   "metadata": {},
   "outputs": [],
   "source": [
    "import matplotlib.pyplot as plt\n",
    "import matplotlib.ticker as ticker\n",
    "from sklearn.metrics import precision_recall_curve\n",
    "%matplotlib inline\n",
    "\n",
    "# precision_recall_curve_plot 함수를 통해 정밀도와 재현율 관계 시각화\n",
    "\n",
    "def precision_recall_curve_plot(y_test , pred_proba_c1):\n",
    "    # threshold ndarray와 이 threshold에 따른 정밀도, 재현율 ndarray 추출. \n",
    "    precisions, recalls, thresholds = precision_recall_curve( y_test, pred_proba_c1)\n",
    "    \n",
    "    # X축을 threshold값으로, Y축은 정밀도, 재현율 값으로 각각 Plot 수행. 정밀도는 점선으로 표시\n",
    "    plt.figure(figsize=(8,6))\n",
    "    threshold_boundary = thresholds.shape[0]\n",
    "    plt.plot(thresholds, precisions[0:threshold_boundary], linestyle='--', label='precision')\n",
    "    plt.plot(thresholds, recalls[0:threshold_boundary],label='recall')\n",
    "    \n",
    "    # threshold 값 X 축의 Scale을 0.1 단위로 변경\n",
    "    start, end = plt.xlim()\n",
    "    plt.xticks(np.round(np.arange(start, end, 0.1),2))\n",
    "    \n",
    "    # x축, y축 label과 legend, 그리고 grid 설정\n",
    "    plt.xlabel('Threshold value'); plt.ylabel('Precision and Recall value')\n",
    "    plt.legend(); plt.grid()\n",
    "    plt.show()"
   ]
  },
  {
   "cell_type": "markdown",
   "metadata": {},
   "source": [
    "## 결정트리"
   ]
  },
  {
   "cell_type": "code",
   "execution_count": 100,
   "metadata": {},
   "outputs": [
    {
     "name": "stdout",
     "output_type": "stream",
     "text": [
      "오차 행렬\n",
      "[[4244  859]\n",
      " [ 221  198]]\n",
      "정확도: 0.8044, 정밀도: 0.1873, 재현율: 0.4726,    F1: 0.2683, AUC:0.6521\n"
     ]
    }
   ],
   "source": [
    "from sklearn.tree import DecisionTreeClassifier\n",
    "from sklearn.model_selection import train_test_split\n",
    "\n",
    "# DecisionTree Classifier 생성\n",
    "dt_clf = DecisionTreeClassifier(random_state=369)\n",
    "get_model_train_eval(dt_clf, ftr_train=X_train_over, ftr_test=X_test,\n",
    "                  tgt_train=y_train_over, tgt_test=y_test)"
   ]
  },
  {
   "cell_type": "code",
   "execution_count": 102,
   "metadata": {},
   "outputs": [
    {
     "name": "stdout",
     "output_type": "stream",
     "text": [
      "오차 행렬\n",
      "[[3869 1234]\n",
      " [  75  344]]\n",
      "정확도: 0.7629, 정밀도: 0.2180, 재현율: 0.8210,    F1: 0.3445, AUC:0.7896\n"
     ]
    }
   ],
   "source": [
    "from sklearn.tree import DecisionTreeClassifier\n",
    "from sklearn.model_selection import train_test_split\n",
    "\n",
    "# DecisionTree Classifier 생성\n",
    "dt_clf = DecisionTreeClassifier(random_state=369, max_depth=6, min_samples_split=2)\n",
    "get_model_train_eval(dt_clf, ftr_train=X_train_over, ftr_test=X_test,\n",
    "                  tgt_train=y_train_over, tgt_test=y_test)"
   ]
  },
  {
   "cell_type": "code",
   "execution_count": 747,
   "metadata": {
    "scrolled": true
   },
   "outputs": [
    {
     "name": "stdout",
     "output_type": "stream",
     "text": [
      "DT 기본 하이퍼 파라미터:\n",
      " {'ccp_alpha': 0.0, 'class_weight': None, 'criterion': 'gini', 'max_depth': 6, 'max_features': None, 'max_leaf_nodes': None, 'min_impurity_decrease': 0.0, 'min_impurity_split': None, 'min_samples_leaf': 1, 'min_samples_split': 2, 'min_weight_fraction_leaf': 0.0, 'random_state': 369, 'splitter': 'best'}\n"
     ]
    }
   ],
   "source": [
    "#  하이퍼 파라미터 추출\n",
    "print('DT 기본 하이퍼 파라미터:\\n', dt_clf.get_params())"
   ]
  },
  {
   "cell_type": "code",
   "execution_count": 748,
   "metadata": {},
   "outputs": [
    {
     "name": "stdout",
     "output_type": "stream",
     "text": [
      "GridSearchCV 최적 파라미터: {'max_depth': 5, 'min_samples_split': 2}\n",
      "GridSearchCV 최고 정확도: 0.8095\n"
     ]
    }
   ],
   "source": [
    "# GridSearchCV\n",
    "from sklearn.model_selection import GridSearchCV\n",
    "\n",
    "parameters = {'max_depth':[1,2,3,4,5], 'min_samples_split':[2,3,4,5]}\n",
    "\n",
    "grid_dt = GridSearchCV(dt_clf, param_grid=parameters, cv=10, scoring='precision', refit=True)\n",
    "\n",
    "grid_dt.fit(X_train_over, y_train_over)\n",
    "print('GridSearchCV 최적 파라미터:', grid_dt.best_params_)\n",
    "print('GridSearchCV 최고 정확도: {0:.4f}'.format(grid_dt.best_score_))"
   ]
  },
  {
   "cell_type": "code",
   "execution_count": 97,
   "metadata": {},
   "outputs": [
    {
     "data": {
      "image/png": "[encoded data removed]",
      "text/plain": [
       "<Figure size 576x432 with 1 Axes>"
      ]
     },
     "metadata": {
      "needs_background": "light"
     },
     "output_type": "display_data"
    }
   ],
   "source": [
    "precision_recall_curve_plot( y_test, dt_clf.predict_proba(X_test)[:, 1] )"
   ]
  },
  {
   "cell_type": "code",
   "execution_count": 99,
   "metadata": {},
   "outputs": [
    {
     "data": {
      "text/plain": [
       "array([4.75269742e-03, 4.46663669e-03, 9.09830677e-02, 2.54084252e-02,\n",
       "       5.54556451e-03, 5.11917077e-01, 1.78605849e-04, 2.60036482e-01,\n",
       "       0.00000000e+00, 1.76039239e-04, 1.56328030e-03, 7.59895063e-03,\n",
       "       1.79421515e-02, 1.94932790e-02, 4.75796159e-05, 0.00000000e+00,\n",
       "       3.25494084e-03, 3.42594883e-04, 3.17548191e-03, 6.88378880e-03,\n",
       "       1.43759979e-03, 1.29824799e-02, 1.80612070e-03, 2.00071568e-02])"
      ]
     },
     "execution_count": 99,
     "metadata": {},
     "output_type": "execute_result"
    }
   ],
   "source": [
    "ftr_importances_values"
   ]
  },
  {
   "cell_type": "code",
   "execution_count": 103,
   "metadata": {},
   "outputs": [
    {
     "data": {
      "image/png": "[encoded data removed]",
      "text/plain": [
       "<Figure size 576x432 with 1 Axes>"
      ]
     },
     "metadata": {
      "needs_background": "light"
     },
     "output_type": "display_data"
    }
   ],
   "source": [
    "import seaborn as sns\n",
    "import matplotlib.pyplot as plt\n",
    "import matplotlib as mpl\n",
    "import matplotlib.font_manager as fm\n",
    "\n",
    "ftr_importances_values = dt_clf.feature_importances_\n",
    "\n",
    "# Top 중요도로 정렬을 쉽게 하고, 시본(Seaborn)의 막대그래프로 쉽게 표현하기 위해 Series변환\n",
    "ftr_importances = pd.Series(ftr_importances_values, index=X_train.columns  )\n",
    "\n",
    "\n",
    "#한글폰트 적용\n",
    "path = 'C:/Windows/Fonts/gulim.ttc'\n",
    "font_name = fm.FontProperties(fname=path, size=50).get_name()\n",
    "plt.rc('font', family=font_name)\n",
    "\n",
    "\n",
    "# 중요도값 순으로 Series를 정렬\n",
    "ftr_top20 = ftr_importances.sort_values(ascending=False)[:20]\n",
    "plt.figure(figsize=(8,6))\n",
    "plt.title('2020Feature importances')\n",
    "sns.barplot(x=ftr_top20 , y = ftr_top20.index)\n",
    "plt.show()"
   ]
  },
  {
   "cell_type": "markdown",
   "metadata": {},
   "source": [
    "## LGBM"
   ]
  },
  {
   "cell_type": "code",
   "execution_count": 110,
   "metadata": {},
   "outputs": [
    {
     "name": "stdout",
     "output_type": "stream",
     "text": [
      "오차 행렬\n",
      "[[4144  959]\n",
      " [ 155  264]]\n",
      "정확도: 0.7983, 정밀도: 0.2159, 재현율: 0.6301,    F1: 0.3216, AUC:0.7211\n"
     ]
    }
   ],
   "source": [
    "lgbm_clf = LGBMClassifier()\n",
    "get_model_train_eval(lgbm_clf, ftr_train=X_train_over, ftr_test=X_test,\n",
    "                  tgt_train=y_train_over, tgt_test=y_test)"
   ]
  },
  {
   "cell_type": "code",
   "execution_count": 112,
   "metadata": {},
   "outputs": [
    {
     "name": "stdout",
     "output_type": "stream",
     "text": [
      "오차 행렬\n",
      "[[3995 1108]\n",
      " [  97  322]]\n",
      "정확도: 0.7818, 정밀도: 0.2252, 재현율: 0.7685,    F1: 0.3483, AUC:0.7757\n"
     ]
    }
   ],
   "source": [
    "lgbm_clf = LGBMClassifier(learning_rate= 0.01, max_depth=7)\n",
    "\n",
    "get_model_train_eval(lgbm_clf, ftr_train=X_train_over, ftr_test=X_test,\n",
    "                  tgt_train=y_train_over, tgt_test=y_test)"
   ]
  },
  {
   "cell_type": "code",
   "execution_count": 106,
   "metadata": {},
   "outputs": [
    {
     "name": "stdout",
     "output_type": "stream",
     "text": [
      "오차 행렬\n",
      "[[4026 1077]\n",
      " [ 109  310]]\n",
      "정확도: 0.7852, 정밀도: 0.2235, 재현율: 0.7399,    F1: 0.3433, AUC:0.7644\n"
     ]
    }
   ],
   "source": [
    "lgbm_clf = LGBMClassifier(learning_rate= 0.1, max_depth=3)\n",
    "\n",
    "get_model_train_eval(lgbm_clf, ftr_train=X_train_over, ftr_test=X_test,\n",
    "                  tgt_train=y_train_over, tgt_test=y_test)"
   ]
  },
  {
   "cell_type": "code",
   "execution_count": 765,
   "metadata": {
    "scrolled": true
   },
   "outputs": [
    {
     "name": "stdout",
     "output_type": "stream",
     "text": [
      "LGBM 기본 하이퍼 파라미터:\n",
      " {'boosting_type': 'gbdt', 'class_weight': None, 'colsample_bytree': 1.0, 'importance_type': 'split', 'learning_rate': 0.1, 'max_depth': -1, 'min_child_samples': 20, 'min_child_weight': 0.001, 'min_split_gain': 0.0, 'n_estimators': 100, 'n_jobs': -1, 'num_leaves': 31, 'objective': None, 'random_state': None, 'reg_alpha': 0.0, 'reg_lambda': 0.0, 'silent': True, 'subsample': 1.0, 'subsample_for_bin': 200000, 'subsample_freq': 0}\n"
     ]
    }
   ],
   "source": [
    "#  하이퍼 파라미터 추출\n",
    "print('LGBM 기본 하이퍼 파라미터:\\n', lgbm_clf.get_params())"
   ]
  },
  {
   "cell_type": "code",
   "execution_count": 85,
   "metadata": {},
   "outputs": [
    {
     "name": "stdout",
     "output_type": "stream",
     "text": [
      "GridSearchCV 최적 파라미터: {'learning_rate': 0.1, 'max_depth': 3}\n",
      "GridSearchCV 최고 정확도: 0.7718\n"
     ]
    }
   ],
   "source": [
    "# GridSearchCV\n",
    "# learning_rate: 훈련량\n",
    "# max_depth: 나무 깊이로 많은 feature가 있을 수록 더 높게 설정, default=-1로 제한없음을 의미\n",
    "\n",
    "parameters = {'max_depth':[1,2,3,4,5,6,7], 'learning_rate':[0.01,0.1]}\n",
    "\n",
    "grid_dt = GridSearchCV(lgbm_clf, param_grid=parameters, cv=10, scoring='recall', refit=True)\n",
    "\n",
    "grid_dt.fit(X_train_over, y_train_over)\n",
    "print('GridSearchCV 최적 파라미터:', grid_dt.best_params_)\n",
    "print('GridSearchCV 최고 정확도: {0:.4f}'.format(grid_dt.best_score_))"
   ]
  },
  {
   "cell_type": "code",
   "execution_count": 108,
   "metadata": {},
   "outputs": [
    {
     "data": {
      "image/png": "[encoded data removed]",
      "text/plain": [
       "<Figure size 576x432 with 1 Axes>"
      ]
     },
     "metadata": {
      "needs_background": "light"
     },
     "output_type": "display_data"
    }
   ],
   "source": [
    "precision_recall_curve_plot( y_test, lgbm_clf.predict_proba(X_test)[:, 1] )"
   ]
  },
  {
   "cell_type": "code",
   "execution_count": 113,
   "metadata": {},
   "outputs": [
    {
     "data": {
      "text/plain": [
       "<AxesSubplot:title={'center':'Feature importance'}, xlabel='Feature importance', ylabel='Features'>"
      ]
     },
     "execution_count": 113,
     "metadata": {},
     "output_type": "execute_result"
    },
    {
     "data": {
      "image/png": "[encoded data removed]",
      "text/plain": [
       "<Figure size 576x720 with 1 Axes>"
      ]
     },
     "metadata": {
      "needs_background": "light"
     },
     "output_type": "display_data"
    }
   ],
   "source": [
    "# plot_importance( )를 이용하여 feature 중요도 시각화\n",
    "from lightgbm import plot_importance\n",
    "import matplotlib.pyplot as plt\n",
    "%matplotlib inline\n",
    "\n",
    "fig, ax = plt.subplots(figsize=(8, 10))\n",
    "plt.title('2020Feature importances')\n",
    "plot_importance(lgbm_clf, ax=ax)"
   ]
  },
  {
   "cell_type": "markdown",
   "metadata": {},
   "source": [
    "- 스케일링 필요한 알고리즘 스케일링 종류별 적용해보기"
   ]
  },
  {
   "cell_type": "code",
   "execution_count": 310,
   "metadata": {},
   "outputs": [],
   "source": [
    "# StandardScaler\n",
    "from sklearn.preprocessing import StandardScaler\n",
    "\n",
    "scaler = StandardScaler()\n",
    "scaler.fit(X_train)       # fit은 train 피처 값에만(훈련 데이터가 스케일링의 기준값이 된다)\n",
    "\n",
    "X_train = scaler.transform(X_train)\n",
    "X_test = scaler.transform(X_test)"
   ]
  },
  {
   "cell_type": "code",
   "execution_count": 30,
   "metadata": {},
   "outputs": [],
   "source": [
    "# MinMaxScaler\n",
    "from sklearn.preprocessing import MinMaxScaler\n",
    "\n",
    "scaler = MinMaxScaler()\n",
    "scaler.fit(X_train)\n",
    "\n",
    "X_train = scaler.transform(X_train)\n",
    "X_test = scaler.transform(X_test)"
   ]
  },
  {
   "cell_type": "code",
   "execution_count": 31,
   "metadata": {},
   "outputs": [
    {
     "name": "stdout",
     "output_type": "stream",
     "text": [
      "SMOTE 적용 전 학습용 피처/레이블 데이터 세트:  (12884, 24) (12884,)\n",
      "SMOTE 적용 후 학습용 피처/레이블 데이터 세트:  (23816, 24) (23816,)\n",
      "SMOTE 적용 후 레이블 값 분포: \n",
      " 0    11908\n",
      "1    11908\n",
      "Name: 부실가계, dtype: int64\n"
     ]
    }
   ],
   "source": [
    "from imblearn.over_sampling import SMOTE\n",
    "\n",
    "smote = SMOTE(random_state=369)\n",
    "X_train_over, y_train_over = smote.fit_sample(X_train, y_train)\n",
    "print('SMOTE 적용 전 학습용 피처/레이블 데이터 세트: ', X_train.shape, y_train.shape)\n",
    "print('SMOTE 적용 후 학습용 피처/레이블 데이터 세트: ', X_train_over.shape, y_train_over.shape)\n",
    "print('SMOTE 적용 후 레이블 값 분포: \\n', pd.Series(y_train_over).value_counts())"
   ]
  },
  {
   "cell_type": "markdown",
   "metadata": {},
   "source": [
    "## 로지스틱 회귀"
   ]
  },
  {
   "cell_type": "code",
   "execution_count": 32,
   "metadata": {},
   "outputs": [
    {
     "name": "stdout",
     "output_type": "stream",
     "text": [
      "오차 행렬\n",
      "[[3938 1165]\n",
      " [  85  334]]\n",
      "정확도: 0.7736, 정밀도: 0.2228, 재현율: 0.7971,    F1: 0.3483, AUC:0.7844\n"
     ]
    }
   ],
   "source": [
    "lr_clf = LogisticRegression()\n",
    "# ftr_train과 tgt_train 인자값이 SMOTE 증식된 X_train_over와 y_train_over로 변경됨에 유의\n",
    "get_model_train_eval(lr_clf, ftr_train=X_train_over, ftr_test=X_test, tgt_train=y_train_over, tgt_test=y_test)"
   ]
  },
  {
   "cell_type": "code",
   "execution_count": 33,
   "metadata": {},
   "outputs": [
    {
     "name": "stdout",
     "output_type": "stream",
     "text": [
      "오차 행렬\n",
      "[[3938 1165]\n",
      " [  85  334]]\n",
      "정확도: 0.7736, 정밀도: 0.2228, 재현율: 0.7971,    F1: 0.3483, AUC:0.7844\n"
     ]
    }
   ],
   "source": [
    "lr_clf = LogisticRegression(C=0.01, penalty='none')\n",
    "# ftr_train과 tgt_train 인자값이 SMOTE 증식된 X_train_over와 y_train_over로 변경됨에 유의\n",
    "get_model_train_eval(lr_clf, ftr_train=X_train_over, ftr_test=X_test, tgt_train=y_train_over, tgt_test=y_test)"
   ]
  },
  {
   "cell_type": "code",
   "execution_count": 103,
   "metadata": {},
   "outputs": [
    {
     "name": "stdout",
     "output_type": "stream",
     "text": [
      "로지스티 회귀 기본 하이퍼 파라미터:\n",
      " {'C': 1.0, 'class_weight': None, 'dual': False, 'fit_intercept': True, 'intercept_scaling': 1, 'l1_ratio': None, 'max_iter': 100, 'multi_class': 'auto', 'n_jobs': None, 'penalty': 'l2', 'random_state': None, 'solver': 'lbfgs', 'tol': 0.0001, 'verbose': 0, 'warm_start': False}\n"
     ]
    }
   ],
   "source": [
    "#  하이퍼 파라미터 추출\n",
    "print('로지스티 회귀 기본 하이퍼 파라미터:\\n', lr_clf.get_params())"
   ]
  },
  {
   "cell_type": "code",
   "execution_count": 104,
   "metadata": {},
   "outputs": [
    {
     "name": "stdout",
     "output_type": "stream",
     "text": [
      "GridSearchCV 최적 파라미터: {'C': 0.01, 'penalty': 'none'}\n",
      "GridSearchCV 최고 정확도: 0.7069\n"
     ]
    }
   ],
   "source": [
    "# GridSearchCV\n",
    "# penalty는 규제의 유형을 설정하는 것이고, C는 규제 강도를 조절하는 alpha값의 역수 이다. 즉 , C = 1/alpha 이다\n",
    "\n",
    "parameters = { \"penalty\" : [\"l2\", \"none\"], \"C\" : [0.01, 0.1, 1, 5, 10] }\n",
    "\n",
    "grid_dt = GridSearchCV(lr_clf, param_grid=parameters, cv=10, scoring='recall', refit=True)\n",
    "\n",
    "grid_dt.fit(X_train_over, y_train_over)\n",
    "print('GridSearchCV 최적 파라미터:', grid_dt.best_params_)\n",
    "print('GridSearchCV 최고 정확도: {0:.4f}'.format(grid_dt.best_score_))"
   ]
  },
  {
   "cell_type": "code",
   "execution_count": 34,
   "metadata": {},
   "outputs": [
    {
     "data": {
      "image/png": "[encoded data removed]",
      "text/plain": [
       "<Figure size 576x432 with 1 Axes>"
      ]
     },
     "metadata": {
      "needs_background": "light"
     },
     "output_type": "display_data"
    }
   ],
   "source": [
    "precision_recall_curve_plot( y_test, lr_clf.predict_proba(X_test)[:, 1] )"
   ]
  },
  {
   "cell_type": "markdown",
   "metadata": {},
   "source": [
    "# K-nn"
   ]
  },
  {
   "cell_type": "code",
   "execution_count": 35,
   "metadata": {},
   "outputs": [
    {
     "name": "stdout",
     "output_type": "stream",
     "text": [
      "오차 행렬\n",
      "[[4204  899]\n",
      " [ 153  266]]\n",
      "정확도: 0.8095, 정밀도: 0.2283, 재현율: 0.6348,    F1: 0.3359, AUC:0.7293\n"
     ]
    }
   ],
   "source": [
    "from sklearn.neighbors import KNeighborsClassifier\n",
    "\n",
    "# k-NN 분류기 생성\n",
    "knn_clf = KNeighborsClassifier(n_neighbors=11)\n",
    "\n",
    "get_model_train_eval(knn_clf, ftr_train=X_train_over, ftr_test=X_test,\n",
    "                  tgt_train=y_train_over, tgt_test=y_test)"
   ]
  },
  {
   "cell_type": "code",
   "execution_count": 173,
   "metadata": {},
   "outputs": [
    {
     "name": "stdout",
     "output_type": "stream",
     "text": [
      "KNN 기본 하이퍼 파라미터:\n",
      " {'algorithm': 'auto', 'leaf_size': 30, 'metric': 'minkowski', 'metric_params': None, 'n_jobs': None, 'n_neighbors': 11, 'p': 2, 'weights': 'uniform'}\n"
     ]
    }
   ],
   "source": [
    "#  하이퍼 파라미터 추출\n",
    "print('KNN 기본 하이퍼 파라미터:\\n', knn_clf.get_params())"
   ]
  },
  {
   "cell_type": "code",
   "execution_count": 109,
   "metadata": {},
   "outputs": [
    {
     "name": "stdout",
     "output_type": "stream",
     "text": [
      "GridSearchCV 최적 파라미터: {'n_neighbors': 11}\n",
      "GridSearchCV 최고 정확도: 0.7246\n"
     ]
    }
   ],
   "source": [
    "# GridSearchCV\n",
    "\n",
    "parameters = { \"n_neighbors\" : [3,5,7,9,11] }\n",
    "\n",
    "grid_dt = GridSearchCV(knn_clf, param_grid=parameters, cv=10, scoring='recall', refit=True)\n",
    "\n",
    "grid_dt.fit(X_train_over, y_train_over)\n",
    "print('GridSearchCV 최적 파라미터:', grid_dt.best_params_)\n",
    "print('GridSearchCV 최고 정확도: {0:.4f}'.format(grid_dt.best_score_))"
   ]
  },
  {
   "cell_type": "code",
   "execution_count": 36,
   "metadata": {},
   "outputs": [
    {
     "data": {
      "image/png": "[encoded data removed]",
      "text/plain": [
       "<Figure size 576x432 with 1 Axes>"
      ]
     },
     "metadata": {
      "needs_background": "light"
     },
     "output_type": "display_data"
    }
   ],
   "source": [
    "precision_recall_curve_plot( y_test, knn_clf.predict_proba(X_test)[:, 1] )"
   ]
  },
  {
   "cell_type": "code",
   "execution_count": null,
   "metadata": {},
   "outputs": [],
   "source": []
  },
  {
   "cell_type": "markdown",
   "metadata": {},
   "source": [
    "# SVM - 참고용"
   ]
  },
  {
   "cell_type": "code",
   "execution_count": 314,
   "metadata": {},
   "outputs": [
    {
     "name": "stdout",
     "output_type": "stream",
     "text": [
      "오차 행렬\n",
      "[[3264 1426]\n",
      " [ 205  525]]\n",
      "정확도: 0.6991, 정밀도: 0.2691, 재현율: 0.7192,    F1: 0.3916, AUC:0.7076\n"
     ]
    }
   ],
   "source": [
    "import sklearn.svm as svm\n",
    "import sklearn.metrics as mt\n",
    "from sklearn.model_selection import cross_val_score, cross_validate\n",
    "\n",
    "# SVM, kernel = 'linear'로 선형분리 진행\n",
    " \n",
    "svm_clf =svm.SVC(kernel = 'linear')\n",
    "get_model_train_eval(svm_clf, ftr_train=X_train_over, ftr_test=X_test,\n",
    "                  tgt_train=y_train_over, tgt_test=y_test)"
   ]
  },
  {
   "cell_type": "code",
   "execution_count": 274,
   "metadata": {},
   "outputs": [
    {
     "name": "stdout",
     "output_type": "stream",
     "text": [
      "오차 행렬\n",
      "[[1826  805]\n",
      " [ 157  132]]\n",
      "정확도: 0.6705, 정밀도: 0.1409, 재현율: 0.4567,    F1: 0.2153, AUC:0.5754\n"
     ]
    }
   ],
   "source": [
    "# SVM, kernel = 'rbf'로 비선형분리 진행\n",
    " \n",
    "svm_clf =svm.SVC(kernel = 'rbf')\n",
    "get_model_train_eval(svm_clf, ftr_train=X_train_over, ftr_test=X_test,\n",
    "                  tgt_train=y_train_over, tgt_test=y_test)"
   ]
  },
  {
   "cell_type": "code",
   "execution_count": 272,
   "metadata": {},
   "outputs": [
    {
     "name": "stdout",
     "output_type": "stream",
     "text": [
      "SVM 기본 하이퍼 파라미터:\n",
      " {'C': 1.0, 'break_ties': False, 'cache_size': 200, 'class_weight': None, 'coef0': 0.0, 'decision_function_shape': 'ovr', 'degree': 3, 'gamma': 'scale', 'kernel': 'linear', 'max_iter': -1, 'probability': False, 'random_state': None, 'shrinking': True, 'tol': 0.001, 'verbose': False}\n"
     ]
    }
   ],
   "source": [
    "#  하이퍼 파라미터 추출\n",
    "print('SVM 기본 하이퍼 파라미터:\\n', svm_clf.get_params())"
   ]
  },
  {
   "cell_type": "code",
   "execution_count": null,
   "metadata": {},
   "outputs": [],
   "source": []
  },
  {
   "cell_type": "code",
   "execution_count": null,
   "metadata": {},
   "outputs": [],
   "source": []
  }
 ],
 "metadata": {
  "kernelspec": {
   "display_name": "Python 3",
   "language": "python",
   "name": "python3"
  },
  "language_info": {
   "codemirror_mode": {
    "name": "ipython",
    "version": 3
   },
   "file_extension": ".py",
   "mimetype": "text/x-python",
   "name": "python",
   "nbconvert_exporter": "python",
   "pygments_lexer": "ipython3",
   "version": "3.8.5"
  }
 },
 "nbformat": 4,
 "nbformat_minor": 4
}
