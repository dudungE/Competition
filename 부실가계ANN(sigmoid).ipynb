{
  "nbformat": 4,
  "nbformat_minor": 0,
  "metadata": {
    "colab": {
      "name": "부실가계ANN(sigmoid).ipynb",
      "provenance": [],
      "collapsed_sections": [],
      "toc_visible": true,
      "mount_file_id": "1W6p1B6FSYnJrn8PW22Un_fKbwQz9-3Xu",
      "authorship_tag": "ABX9TyP5ih21skZeqgktssk8Zz1T",
      "include_colab_link": true
    },
    "kernelspec": {
      "name": "python3",
      "display_name": "Python 3"
    },
    "language_info": {
      "name": "python"
    }
  },
  "cells": [
    {
      "cell_type": "markdown",
      "metadata": {
        "id": "view-in-github",
        "colab_type": "text"
      },
      "source": [
        "<a href=\"https://colab.research.google.com/github/dudungE/house_debt_classification_model/blob/master/%EB%B6%80%EC%8B%A4%EA%B0%80%EA%B3%84ANN(sigmoid).ipynb\" target=\"_parent\"><img src=\"https://colab.research.google.com/assets/colab-badge.svg\" alt=\"Open In Colab\"/></a>"
      ]
    },
    {
      "cell_type": "code",
      "metadata": {
        "colab": {
          "base_uri": "https://localhost:8080/"
        },
        "id": "RvwmJIm6uJJk",
        "outputId": "83c7ed29-8d3f-4114-f456-23ba761d6e4c"
      },
      "source": [
        "import pandas as pd\n",
        "%cd /content/drive/MyDrive/부실가계 분류 모형"
      ],
      "execution_count": 23,
      "outputs": [
        {
          "output_type": "stream",
          "text": [
            "/content/drive/MyDrive/부실가계 분류 모형\n"
          ],
          "name": "stdout"
        }
      ]
    },
    {
      "cell_type": "code",
      "metadata": {
        "colab": {
          "base_uri": "https://localhost:8080/",
          "height": 759
        },
        "id": "vvMUbxz5tew7",
        "outputId": "dbfab404-d5a6-4c5a-d047-128985e12577"
      },
      "source": [
        "df = pd.read_csv('./data/2020가계부채/data_fin_encoding.csv', engine='python')\n",
        "# df=df.drop(columns='Unnamed: 0')\n",
        "len(df.columns)\n",
        "df"
      ],
      "execution_count": 24,
      "outputs": [
        {
          "output_type": "execute_result",
          "data": {
            "text/html": [
              "<div>\n",
              "<style scoped>\n",
              "    .dataframe tbody tr th:only-of-type {\n",
              "        vertical-align: middle;\n",
              "    }\n",
              "\n",
              "    .dataframe tbody tr th {\n",
              "        vertical-align: top;\n",
              "    }\n",
              "\n",
              "    .dataframe thead th {\n",
              "        text-align: right;\n",
              "    }\n",
              "</style>\n",
              "<table border=\"1\" class=\"dataframe\">\n",
              "  <thead>\n",
              "    <tr style=\"text-align: right;\">\n",
              "      <th></th>\n",
              "      <th>Unnamed: 0</th>\n",
              "      <th>담보대출_대출용도_거주주택 구입</th>\n",
              "      <th>담보대출_대출용도_거주주택이외 부동산 구입</th>\n",
              "      <th>담보대출_대출용도_전(월)세 보증금 마련</th>\n",
              "      <th>담보대출_대출용도_사업자금 마련</th>\n",
              "      <th>담보대출_대출용도_생활비 마련</th>\n",
              "      <th>담보대출_대출기관_은행(2010년은 농수협 중앙회 제외)</th>\n",
              "      <th>담보대출_대출기관_저축은행</th>\n",
              "      <th>담보대출_대출기관_비은행금융기관(2010년은 농수협중앙회 포함)</th>\n",
              "      <th>신용대출_대출용도_거주주택 구입</th>\n",
              "      <th>신용대출_대출용도_거주주택이외 부동산 구입</th>\n",
              "      <th>신용대출_대출용도_전(월)세 보증금 마련</th>\n",
              "      <th>신용대출_대출용도_사업자금 마련</th>\n",
              "      <th>신용대출_대출용도_생활비 마련</th>\n",
              "      <th>신용대출_대출기관_은행(2010년은 농수협 중앙회 제외)</th>\n",
              "      <th>신용대출_대출기관_저축은행</th>\n",
              "      <th>신용대출_대출기관_비은행금융기관(2010년은 농수협중앙회 포함)</th>\n",
              "      <th>자산</th>\n",
              "      <th>부채</th>\n",
              "      <th>순자산액</th>\n",
              "      <th>가구원수</th>\n",
              "      <th>가구주 만나이</th>\n",
              "      <th>가구주 성별</th>\n",
              "      <th>가구주교육정도 통합별</th>\n",
              "      <th>가구주 혼인상태</th>\n",
              "      <th>가구주 은퇴여부</th>\n",
              "      <th>입주형태</th>\n",
              "      <th>수도권여부</th>\n",
              "      <th>가구주 직업(대분류)</th>\n",
              "      <th>가구주 종사상지위</th>\n",
              "      <th>부실가계</th>\n",
              "    </tr>\n",
              "  </thead>\n",
              "  <tbody>\n",
              "    <tr>\n",
              "      <th>0</th>\n",
              "      <td>0</td>\n",
              "      <td>0</td>\n",
              "      <td>0.0</td>\n",
              "      <td>1</td>\n",
              "      <td>0.0</td>\n",
              "      <td>0</td>\n",
              "      <td>1.0</td>\n",
              "      <td>0</td>\n",
              "      <td>0.0</td>\n",
              "      <td>0</td>\n",
              "      <td>0.0</td>\n",
              "      <td>0</td>\n",
              "      <td>1</td>\n",
              "      <td>0</td>\n",
              "      <td>1.0</td>\n",
              "      <td>0</td>\n",
              "      <td>0</td>\n",
              "      <td>112000</td>\n",
              "      <td>54500.0</td>\n",
              "      <td>57500.0</td>\n",
              "      <td>3</td>\n",
              "      <td>34</td>\n",
              "      <td>0</td>\n",
              "      <td>1</td>\n",
              "      <td>1</td>\n",
              "      <td>1</td>\n",
              "      <td>0</td>\n",
              "      <td>1</td>\n",
              "      <td>0</td>\n",
              "      <td>1</td>\n",
              "      <td>0</td>\n",
              "    </tr>\n",
              "    <tr>\n",
              "      <th>1</th>\n",
              "      <td>1</td>\n",
              "      <td>0</td>\n",
              "      <td>0.0</td>\n",
              "      <td>0</td>\n",
              "      <td>1.0</td>\n",
              "      <td>0</td>\n",
              "      <td>1.0</td>\n",
              "      <td>0</td>\n",
              "      <td>0.0</td>\n",
              "      <td>0</td>\n",
              "      <td>0.0</td>\n",
              "      <td>0</td>\n",
              "      <td>1</td>\n",
              "      <td>0</td>\n",
              "      <td>0.0</td>\n",
              "      <td>1</td>\n",
              "      <td>0</td>\n",
              "      <td>42500</td>\n",
              "      <td>17500.0</td>\n",
              "      <td>25000.0</td>\n",
              "      <td>2</td>\n",
              "      <td>45</td>\n",
              "      <td>1</td>\n",
              "      <td>1</td>\n",
              "      <td>1</td>\n",
              "      <td>1</td>\n",
              "      <td>0</td>\n",
              "      <td>1</td>\n",
              "      <td>0</td>\n",
              "      <td>1</td>\n",
              "      <td>0</td>\n",
              "    </tr>\n",
              "    <tr>\n",
              "      <th>2</th>\n",
              "      <td>2</td>\n",
              "      <td>0</td>\n",
              "      <td>0.0</td>\n",
              "      <td>0</td>\n",
              "      <td>0.0</td>\n",
              "      <td>0</td>\n",
              "      <td>0.0</td>\n",
              "      <td>0</td>\n",
              "      <td>0.0</td>\n",
              "      <td>0</td>\n",
              "      <td>0.0</td>\n",
              "      <td>0</td>\n",
              "      <td>0</td>\n",
              "      <td>0</td>\n",
              "      <td>0.0</td>\n",
              "      <td>0</td>\n",
              "      <td>0</td>\n",
              "      <td>5712</td>\n",
              "      <td>0.0</td>\n",
              "      <td>5712.0</td>\n",
              "      <td>1</td>\n",
              "      <td>73</td>\n",
              "      <td>1</td>\n",
              "      <td>0</td>\n",
              "      <td>0</td>\n",
              "      <td>1</td>\n",
              "      <td>0</td>\n",
              "      <td>1</td>\n",
              "      <td>0</td>\n",
              "      <td>0</td>\n",
              "      <td>0</td>\n",
              "    </tr>\n",
              "    <tr>\n",
              "      <th>3</th>\n",
              "      <td>3</td>\n",
              "      <td>0</td>\n",
              "      <td>0.0</td>\n",
              "      <td>0</td>\n",
              "      <td>0.0</td>\n",
              "      <td>0</td>\n",
              "      <td>0.0</td>\n",
              "      <td>0</td>\n",
              "      <td>0.0</td>\n",
              "      <td>0</td>\n",
              "      <td>0.0</td>\n",
              "      <td>0</td>\n",
              "      <td>0</td>\n",
              "      <td>0</td>\n",
              "      <td>0.0</td>\n",
              "      <td>0</td>\n",
              "      <td>0</td>\n",
              "      <td>14870</td>\n",
              "      <td>0.0</td>\n",
              "      <td>14870.0</td>\n",
              "      <td>2</td>\n",
              "      <td>58</td>\n",
              "      <td>0</td>\n",
              "      <td>0</td>\n",
              "      <td>1</td>\n",
              "      <td>1</td>\n",
              "      <td>0</td>\n",
              "      <td>1</td>\n",
              "      <td>0</td>\n",
              "      <td>1</td>\n",
              "      <td>0</td>\n",
              "    </tr>\n",
              "    <tr>\n",
              "      <th>4</th>\n",
              "      <td>4</td>\n",
              "      <td>0</td>\n",
              "      <td>0.0</td>\n",
              "      <td>0</td>\n",
              "      <td>0.0</td>\n",
              "      <td>0</td>\n",
              "      <td>0.0</td>\n",
              "      <td>0</td>\n",
              "      <td>0.0</td>\n",
              "      <td>0</td>\n",
              "      <td>0.0</td>\n",
              "      <td>0</td>\n",
              "      <td>0</td>\n",
              "      <td>0</td>\n",
              "      <td>0.0</td>\n",
              "      <td>0</td>\n",
              "      <td>0</td>\n",
              "      <td>814</td>\n",
              "      <td>0.0</td>\n",
              "      <td>814.0</td>\n",
              "      <td>1</td>\n",
              "      <td>27</td>\n",
              "      <td>1</td>\n",
              "      <td>0</td>\n",
              "      <td>0</td>\n",
              "      <td>1</td>\n",
              "      <td>0</td>\n",
              "      <td>1</td>\n",
              "      <td>0</td>\n",
              "      <td>0</td>\n",
              "      <td>0</td>\n",
              "    </tr>\n",
              "    <tr>\n",
              "      <th>...</th>\n",
              "      <td>...</td>\n",
              "      <td>...</td>\n",
              "      <td>...</td>\n",
              "      <td>...</td>\n",
              "      <td>...</td>\n",
              "      <td>...</td>\n",
              "      <td>...</td>\n",
              "      <td>...</td>\n",
              "      <td>...</td>\n",
              "      <td>...</td>\n",
              "      <td>...</td>\n",
              "      <td>...</td>\n",
              "      <td>...</td>\n",
              "      <td>...</td>\n",
              "      <td>...</td>\n",
              "      <td>...</td>\n",
              "      <td>...</td>\n",
              "      <td>...</td>\n",
              "      <td>...</td>\n",
              "      <td>...</td>\n",
              "      <td>...</td>\n",
              "      <td>...</td>\n",
              "      <td>...</td>\n",
              "      <td>...</td>\n",
              "      <td>...</td>\n",
              "      <td>...</td>\n",
              "      <td>...</td>\n",
              "      <td>...</td>\n",
              "      <td>...</td>\n",
              "      <td>...</td>\n",
              "      <td>...</td>\n",
              "    </tr>\n",
              "    <tr>\n",
              "      <th>18059</th>\n",
              "      <td>18059</td>\n",
              "      <td>0</td>\n",
              "      <td>0.0</td>\n",
              "      <td>0</td>\n",
              "      <td>0.0</td>\n",
              "      <td>0</td>\n",
              "      <td>0.0</td>\n",
              "      <td>0</td>\n",
              "      <td>0.0</td>\n",
              "      <td>0</td>\n",
              "      <td>0.0</td>\n",
              "      <td>0</td>\n",
              "      <td>0</td>\n",
              "      <td>1</td>\n",
              "      <td>0.0</td>\n",
              "      <td>0</td>\n",
              "      <td>0</td>\n",
              "      <td>6705</td>\n",
              "      <td>2200.0</td>\n",
              "      <td>4505.0</td>\n",
              "      <td>3</td>\n",
              "      <td>42</td>\n",
              "      <td>0</td>\n",
              "      <td>1</td>\n",
              "      <td>1</td>\n",
              "      <td>1</td>\n",
              "      <td>0</td>\n",
              "      <td>0</td>\n",
              "      <td>0</td>\n",
              "      <td>0</td>\n",
              "      <td>0</td>\n",
              "    </tr>\n",
              "    <tr>\n",
              "      <th>18060</th>\n",
              "      <td>18060</td>\n",
              "      <td>1</td>\n",
              "      <td>0.0</td>\n",
              "      <td>0</td>\n",
              "      <td>0.0</td>\n",
              "      <td>0</td>\n",
              "      <td>1.0</td>\n",
              "      <td>1</td>\n",
              "      <td>0.0</td>\n",
              "      <td>0</td>\n",
              "      <td>0.0</td>\n",
              "      <td>0</td>\n",
              "      <td>0</td>\n",
              "      <td>0</td>\n",
              "      <td>0.0</td>\n",
              "      <td>0</td>\n",
              "      <td>0</td>\n",
              "      <td>130180</td>\n",
              "      <td>22000.0</td>\n",
              "      <td>108180.0</td>\n",
              "      <td>5</td>\n",
              "      <td>49</td>\n",
              "      <td>0</td>\n",
              "      <td>1</td>\n",
              "      <td>1</td>\n",
              "      <td>1</td>\n",
              "      <td>1</td>\n",
              "      <td>0</td>\n",
              "      <td>0</td>\n",
              "      <td>1</td>\n",
              "      <td>1</td>\n",
              "    </tr>\n",
              "    <tr>\n",
              "      <th>18061</th>\n",
              "      <td>18061</td>\n",
              "      <td>1</td>\n",
              "      <td>0.0</td>\n",
              "      <td>0</td>\n",
              "      <td>0.0</td>\n",
              "      <td>0</td>\n",
              "      <td>1.0</td>\n",
              "      <td>0</td>\n",
              "      <td>0.0</td>\n",
              "      <td>0</td>\n",
              "      <td>0.0</td>\n",
              "      <td>0</td>\n",
              "      <td>0</td>\n",
              "      <td>0</td>\n",
              "      <td>0.0</td>\n",
              "      <td>0</td>\n",
              "      <td>0</td>\n",
              "      <td>265226</td>\n",
              "      <td>29000.0</td>\n",
              "      <td>236226.0</td>\n",
              "      <td>5</td>\n",
              "      <td>57</td>\n",
              "      <td>0</td>\n",
              "      <td>1</td>\n",
              "      <td>1</td>\n",
              "      <td>0</td>\n",
              "      <td>1</td>\n",
              "      <td>0</td>\n",
              "      <td>0</td>\n",
              "      <td>0</td>\n",
              "      <td>1</td>\n",
              "    </tr>\n",
              "    <tr>\n",
              "      <th>18062</th>\n",
              "      <td>18062</td>\n",
              "      <td>0</td>\n",
              "      <td>0.0</td>\n",
              "      <td>0</td>\n",
              "      <td>0.0</td>\n",
              "      <td>0</td>\n",
              "      <td>0.0</td>\n",
              "      <td>0</td>\n",
              "      <td>0.0</td>\n",
              "      <td>0</td>\n",
              "      <td>0.0</td>\n",
              "      <td>0</td>\n",
              "      <td>0</td>\n",
              "      <td>0</td>\n",
              "      <td>0.0</td>\n",
              "      <td>0</td>\n",
              "      <td>0</td>\n",
              "      <td>109695</td>\n",
              "      <td>25000.0</td>\n",
              "      <td>84695.0</td>\n",
              "      <td>2</td>\n",
              "      <td>53</td>\n",
              "      <td>1</td>\n",
              "      <td>1</td>\n",
              "      <td>0</td>\n",
              "      <td>1</td>\n",
              "      <td>0</td>\n",
              "      <td>0</td>\n",
              "      <td>0</td>\n",
              "      <td>1</td>\n",
              "      <td>0</td>\n",
              "    </tr>\n",
              "    <tr>\n",
              "      <th>18063</th>\n",
              "      <td>18063</td>\n",
              "      <td>1</td>\n",
              "      <td>0.0</td>\n",
              "      <td>0</td>\n",
              "      <td>0.0</td>\n",
              "      <td>0</td>\n",
              "      <td>1.0</td>\n",
              "      <td>0</td>\n",
              "      <td>0.0</td>\n",
              "      <td>0</td>\n",
              "      <td>0.0</td>\n",
              "      <td>0</td>\n",
              "      <td>0</td>\n",
              "      <td>0</td>\n",
              "      <td>0.0</td>\n",
              "      <td>0</td>\n",
              "      <td>0</td>\n",
              "      <td>71223</td>\n",
              "      <td>13000.0</td>\n",
              "      <td>58223.0</td>\n",
              "      <td>5</td>\n",
              "      <td>44</td>\n",
              "      <td>0</td>\n",
              "      <td>1</td>\n",
              "      <td>1</td>\n",
              "      <td>1</td>\n",
              "      <td>1</td>\n",
              "      <td>0</td>\n",
              "      <td>0</td>\n",
              "      <td>1</td>\n",
              "      <td>0</td>\n",
              "    </tr>\n",
              "  </tbody>\n",
              "</table>\n",
              "<p>18064 rows × 31 columns</p>\n",
              "</div>"
            ],
            "text/plain": [
              "       Unnamed: 0  담보대출_대출용도_거주주택 구입  ...  가구주 종사상지위  부실가계\n",
              "0               0                  0  ...          1     0\n",
              "1               1                  0  ...          1     0\n",
              "2               2                  0  ...          0     0\n",
              "3               3                  0  ...          1     0\n",
              "4               4                  0  ...          0     0\n",
              "...           ...                ...  ...        ...   ...\n",
              "18059       18059                  0  ...          0     0\n",
              "18060       18060                  1  ...          1     1\n",
              "18061       18061                  1  ...          0     1\n",
              "18062       18062                  0  ...          1     0\n",
              "18063       18063                  1  ...          1     0\n",
              "\n",
              "[18064 rows x 31 columns]"
            ]
          },
          "metadata": {
            "tags": []
          },
          "execution_count": 24
        }
      ]
    },
    {
      "cell_type": "code",
      "metadata": {
        "id": "iYWQtZbbRiAs"
      },
      "source": [
        "df=df.drop(['부채','자산','순자산액', '가구주 직업(대분류)','가구주 만나이'],axis=1)\n",
        "#df=df.drop(['부채','자산','순자산액', '가구주 직업(대분류)'],axis=1)"
      ],
      "execution_count": 25,
      "outputs": []
    },
    {
      "cell_type": "code",
      "metadata": {
        "colab": {
          "base_uri": "https://localhost:8080/"
        },
        "id": "BaXUOaCLRpJl",
        "outputId": "3961a69c-2a41-45be-b23f-ede62a63dd7f"
      },
      "source": [
        "df.columns"
      ],
      "execution_count": 4,
      "outputs": [
        {
          "output_type": "execute_result",
          "data": {
            "text/plain": [
              "Index(['Unnamed: 0', '담보대출_대출용도_거주주택 구입', '담보대출_대출용도_거주주택이외 부동산 구입',\n",
              "       '담보대출_대출용도_전(월)세 보증금 마련', '담보대출_대출용도_사업자금 마련', '담보대출_대출용도_생활비 마련',\n",
              "       '담보대출_대출기관_은행(2010년은 농수협 중앙회 제외)', '담보대출_대출기관_저축은행',\n",
              "       '담보대출_대출기관_비은행금융기관(2010년은 농수협중앙회 포함)', '신용대출_대출용도_거주주택 구입',\n",
              "       '신용대출_대출용도_거주주택이외 부동산 구입', '신용대출_대출용도_전(월)세 보증금 마련',\n",
              "       '신용대출_대출용도_사업자금 마련', '신용대출_대출용도_생활비 마련',\n",
              "       '신용대출_대출기관_은행(2010년은 농수협 중앙회 제외)', '신용대출_대출기관_저축은행',\n",
              "       '신용대출_대출기관_비은행금융기관(2010년은 농수협중앙회 포함)', '가구원수', '가구주 성별', '가구주교육정도 통합별',\n",
              "       '가구주 혼인상태', '가구주 은퇴여부', '입주형태', '수도권여부', '가구주 종사상지위', '부실가계'],\n",
              "      dtype='object')"
            ]
          },
          "metadata": {
            "tags": []
          },
          "execution_count": 4
        }
      ]
    },
    {
      "cell_type": "code",
      "metadata": {
        "id": "W1ISeq3ou17c"
      },
      "source": [
        "import pandas as pd\n",
        "import numpy as np \n",
        "import matplotlib.pyplot as plt\n",
        "import warnings\n",
        "warnings.filterwarnings(\"ignore\")\n",
        "%matplotlib inline"
      ],
      "execution_count": 26,
      "outputs": []
    },
    {
      "cell_type": "code",
      "metadata": {
        "id": "cKbYhShEvCE9",
        "colab": {
          "base_uri": "https://localhost:8080/"
        },
        "outputId": "d525f140-8c5d-491d-a410-396a6d45657e"
      },
      "source": [
        "from sklearn.model_selection import train_test_split\n",
        "import warnings\n",
        "warnings.filterwarnings('ignore')\n",
        "\n",
        "X = df.iloc[:,1:-1]\n",
        "Y = df.iloc[:,-1]\n",
        "\n",
        "# 학습과 테스트 데이터 셋으로 분리\n",
        "X_train , X_test , y_train , y_test = train_test_split(X, Y,\n",
        "                                                       test_size=0.3,  random_state=369, stratify=Y)\n",
        "\n",
        "y_train"
      ],
      "execution_count": 27,
      "outputs": [
        {
          "output_type": "execute_result",
          "data": {
            "text/plain": [
              "6453     0\n",
              "15606    0\n",
              "5520     0\n",
              "4535     0\n",
              "6280     0\n",
              "        ..\n",
              "7315     1\n",
              "14104    0\n",
              "347      0\n",
              "14146    0\n",
              "16792    0\n",
              "Name: 부실가계, Length: 12644, dtype: int64"
            ]
          },
          "metadata": {
            "tags": []
          },
          "execution_count": 27
        }
      ]
    },
    {
      "cell_type": "code",
      "metadata": {
        "colab": {
          "base_uri": "https://localhost:8080/"
        },
        "id": "h01ExKDHvQME",
        "outputId": "4e34f8aa-a40f-4456-be81-bdc0dd18de68"
      },
      "source": [
        "X_train.info()"
      ],
      "execution_count": 7,
      "outputs": [
        {
          "output_type": "stream",
          "text": [
            "<class 'pandas.core.frame.DataFrame'>\n",
            "Int64Index: 12644 entries, 6453 to 16792\n",
            "Data columns (total 24 columns):\n",
            " #   Column                               Non-Null Count  Dtype  \n",
            "---  ------                               --------------  -----  \n",
            " 0   담보대출_대출용도_거주주택 구입                    12644 non-null  int64  \n",
            " 1   담보대출_대출용도_거주주택이외 부동산 구입              12644 non-null  float64\n",
            " 2   담보대출_대출용도_전(월)세 보증금 마련               12644 non-null  int64  \n",
            " 3   담보대출_대출용도_사업자금 마련                    12644 non-null  float64\n",
            " 4   담보대출_대출용도_생활비 마련                     12644 non-null  int64  \n",
            " 5   담보대출_대출기관_은행(2010년은 농수협 중앙회 제외)      12644 non-null  float64\n",
            " 6   담보대출_대출기관_저축은행                       12644 non-null  int64  \n",
            " 7   담보대출_대출기관_비은행금융기관(2010년은 농수협중앙회 포함)  12644 non-null  float64\n",
            " 8   신용대출_대출용도_거주주택 구입                    12644 non-null  int64  \n",
            " 9   신용대출_대출용도_거주주택이외 부동산 구입              12644 non-null  float64\n",
            " 10  신용대출_대출용도_전(월)세 보증금 마련               12644 non-null  int64  \n",
            " 11  신용대출_대출용도_사업자금 마련                    12644 non-null  int64  \n",
            " 12  신용대출_대출용도_생활비 마련                     12644 non-null  int64  \n",
            " 13  신용대출_대출기관_은행(2010년은 농수협 중앙회 제외)      12644 non-null  float64\n",
            " 14  신용대출_대출기관_저축은행                       12644 non-null  int64  \n",
            " 15  신용대출_대출기관_비은행금융기관(2010년은 농수협중앙회 포함)  12644 non-null  int64  \n",
            " 16  가구원수                                 12644 non-null  int64  \n",
            " 17  가구주 성별                               12644 non-null  int64  \n",
            " 18  가구주교육정도 통합별                          12644 non-null  int64  \n",
            " 19  가구주 혼인상태                             12644 non-null  int64  \n",
            " 20  가구주 은퇴여부                             12644 non-null  int64  \n",
            " 21  입주형태                                 12644 non-null  int64  \n",
            " 22  수도권여부                                12644 non-null  int64  \n",
            " 23  가구주 종사상지위                            12644 non-null  int64  \n",
            "dtypes: float64(6), int64(18)\n",
            "memory usage: 2.4 MB\n"
          ],
          "name": "stdout"
        }
      ]
    },
    {
      "cell_type": "code",
      "metadata": {
        "colab": {
          "base_uri": "https://localhost:8080/"
        },
        "id": "EV8CzQvgu142",
        "outputId": "abf27dac-9514-4578-8a59-6a6faacedade"
      },
      "source": [
        "print('학습 데이터 레이블 값 비율')\n",
        "print(y_train.value_counts()/y_train.shape[0] * 100)\n",
        "print('테스트 데이터 레이블 값 비율')\n",
        "print(y_test.value_counts()/y_test.shape[0] * 100)"
      ],
      "execution_count": 28,
      "outputs": [
        {
          "output_type": "stream",
          "text": [
            "학습 데이터 레이블 값 비율\n",
            "0    92.280924\n",
            "1     7.719076\n",
            "Name: 부실가계, dtype: float64\n",
            "테스트 데이터 레이블 값 비율\n",
            "0    92.269373\n",
            "1     7.730627\n",
            "Name: 부실가계, dtype: float64\n"
          ],
          "name": "stdout"
        }
      ]
    },
    {
      "cell_type": "code",
      "metadata": {
        "id": "ITvd3tY0RqcS"
      },
      "source": [
        "# MinMaxScaler\n",
        "from sklearn.preprocessing import MinMaxScaler\n",
        "\n",
        "scaler = MinMaxScaler()\n",
        "scaler.fit(X_train)\n",
        "\n",
        "X_train = scaler.transform(X_train)\n",
        "X_test = scaler.transform(X_test)"
      ],
      "execution_count": null,
      "outputs": []
    },
    {
      "cell_type": "code",
      "metadata": {
        "colab": {
          "base_uri": "https://localhost:8080/"
        },
        "id": "lcWTlJbwu12y",
        "outputId": "fd1a4237-87c0-4956-c89b-1baef3646811"
      },
      "source": [
        "from imblearn.over_sampling import SMOTE\n",
        "\n",
        "smote = SMOTE(random_state=369)\n",
        "X_train_over, y_train_over = smote.fit_sample(X_train, y_train)\n",
        "print('SMOTE 적용 전 학습용 피처/레이블 데이터 세트: ', X_train.shape, y_train.shape)\n",
        "print('SMOTE 적용 후 학습용 피처/레이블 데이터 세트: ', X_train_over.shape, y_train_over.shape)\n",
        "print('SMOTE 적용 후 레이블 값 분포: \\n', pd.Series(y_train_over).value_counts())"
      ],
      "execution_count": 41,
      "outputs": [
        {
          "output_type": "stream",
          "text": [
            "SMOTE 적용 전 학습용 피처/레이블 데이터 세트:  (12644, 24) (12644,)\n",
            "SMOTE 적용 후 학습용 피처/레이블 데이터 세트:  (23336, 24) (23336,)\n",
            "SMOTE 적용 후 레이블 값 분포: \n",
            " 1    11668\n",
            "0    11668\n",
            "dtype: int64\n"
          ],
          "name": "stdout"
        }
      ]
    },
    {
      "cell_type": "code",
      "metadata": {
        "id": "pmgEJdRIu1tu",
        "colab": {
          "base_uri": "https://localhost:8080/"
        },
        "outputId": "bbf114a8-b216-4511-8046-577def595854"
      },
      "source": [
        "# 딥러닝을 구동하는 데 필요한 케라스 함수를 불러옵니다.\n",
        "from tensorflow.keras.models import Sequential\n",
        "from tensorflow.keras.layers import Dense\n",
        "\n",
        "# 필요한 라이브러리를 불러옵니다.\n",
        "import numpy\n",
        "import tensorflow as tf\n",
        "\n",
        "# 실행할 때마다 같은 결과를 출력하기 위해 설정하는 부분입니다.\n",
        "numpy.random.seed(369)\n",
        "tf.random.set_seed(369)\n",
        "\n",
        "\n",
        "# 모델을 설정합니다.\n",
        "model = Sequential()\n",
        "model.add(Dense(24, input_dim=24, activation='relu'))         # 레이어 1개로\n",
        "#model.add(Dense(8, activation='relu'))                       \n",
        "model.add(Dense(1, activation='sigmoid'))\n",
        "model.summary()\n",
        "\n",
        "# 모델을 컴파일합니다.\n",
        "model.compile(loss='binary_crossentropy',\n",
        "             optimizer='adam',\n",
        "             metrics=['accuracy'])\n",
        "# 모델을 실행합니다.\n",
        "model.fit(X_train_over, y_train_over, epochs=8, batch_size=10, validation_split=0.2)      # SMOTE 후\n",
        "#model.fit(X_train, y_train, epochs=8, batch_size=10, validation_split=0.2)                # SMOTE 전\n",
        "\n",
        "# 결과를 출력합니다.\n",
        "print(\"\\n Accuracy: %.4f\" % (model.evaluate(X, Y)[1]))"
      ],
      "execution_count": 42,
      "outputs": [
        {
          "output_type": "stream",
          "text": [
            "Model: \"sequential_5\"\n",
            "_________________________________________________________________\n",
            "Layer (type)                 Output Shape              Param #   \n",
            "=================================================================\n",
            "dense_10 (Dense)             (None, 24)                600       \n",
            "_________________________________________________________________\n",
            "dense_11 (Dense)             (None, 1)                 25        \n",
            "=================================================================\n",
            "Total params: 625\n",
            "Trainable params: 625\n",
            "Non-trainable params: 0\n",
            "_________________________________________________________________\n",
            "Epoch 1/8\n",
            "1867/1867 [==============================] - 3s 2ms/step - loss: 0.4982 - accuracy: 0.7532 - val_loss: 0.5812 - val_accuracy: 0.7614\n",
            "Epoch 2/8\n",
            "1867/1867 [==============================] - 3s 2ms/step - loss: 0.4448 - accuracy: 0.7826 - val_loss: 0.5934 - val_accuracy: 0.7746\n",
            "Epoch 3/8\n",
            "1867/1867 [==============================] - 3s 2ms/step - loss: 0.4331 - accuracy: 0.7889 - val_loss: 0.5924 - val_accuracy: 0.7926\n",
            "Epoch 4/8\n",
            "1867/1867 [==============================] - 3s 2ms/step - loss: 0.4243 - accuracy: 0.7948 - val_loss: 0.6359 - val_accuracy: 0.7763\n",
            "Epoch 5/8\n",
            "1867/1867 [==============================] - 3s 1ms/step - loss: 0.4175 - accuracy: 0.7989 - val_loss: 0.6212 - val_accuracy: 0.7894\n",
            "Epoch 6/8\n",
            "1867/1867 [==============================] - 3s 1ms/step - loss: 0.4123 - accuracy: 0.8037 - val_loss: 0.5054 - val_accuracy: 0.8430\n",
            "Epoch 7/8\n",
            "1867/1867 [==============================] - 3s 2ms/step - loss: 0.4075 - accuracy: 0.8081 - val_loss: 0.5390 - val_accuracy: 0.8250\n",
            "Epoch 8/8\n",
            "1867/1867 [==============================] - 3s 1ms/step - loss: 0.4029 - accuracy: 0.8117 - val_loss: 0.5354 - val_accuracy: 0.8235\n",
            "565/565 [==============================] - 1s 2ms/step - loss: 0.3417 - accuracy: 0.8009\n",
            "\n",
            " Accuracy: 0.8009\n"
          ],
          "name": "stdout"
        }
      ]
    },
    {
      "cell_type": "code",
      "metadata": {
        "id": "Rc0Fq9JJu1j-",
        "colab": {
          "base_uri": "https://localhost:8080/"
        },
        "outputId": "2a7e19db-5479-4824-8841-9a9b1e5bfcb4"
      },
      "source": [
        "# 최종결과값으로 반환하기(0,1)\n",
        "\n",
        "y_predict = model.predict(X_test)    # 소수점?\n",
        "y_predict\n",
        "\n",
        "result=[]\n",
        "\n",
        "for i in y_predict:\n",
        "  if i >0.5:\n",
        "    result.append(1)\n",
        "  else:\n",
        "    result.append(0)\n",
        "\n",
        "# 혼동행렬 출력\n",
        "\n",
        "labels = y_test\n",
        "predictions = result\n",
        "\n",
        "\n",
        "cfm = tf.math.confusion_matrix(\n",
        "    labels, predictions, num_classes=None, weights=None, dtype=tf.dtypes.int32,\n",
        "    name=None\n",
        ")\n",
        "\n",
        "# 혼동행렬에서 성능지표 계산 구현\n",
        "\n",
        "cfm\n",
        "n11=cfm[0][0]\n",
        "n12=cfm[0][1]\n",
        "n22=cfm[1][1]\n",
        "n21=cfm[1][0]\n",
        "\n",
        "print(\"accuracy:\",(n11+n22)/(n11+n12+n22+n21))\n",
        "print(\"prediction:\",(n22)/(n22+n12))\n",
        "print(\"recall:\",(n22)/(n22+n21))"
      ],
      "execution_count": 43,
      "outputs": [
        {
          "output_type": "stream",
          "text": [
            "accuracy: tf.Tensor(0.792619926199262, shape=(), dtype=float64)\n",
            "prediction: tf.Tensor(0.23356009070294784, shape=(), dtype=float64)\n",
            "recall: tf.Tensor(0.7374701670644391, shape=(), dtype=float64)\n"
          ],
          "name": "stdout"
        }
      ]
    },
    {
      "cell_type": "markdown",
      "metadata": {
        "id": "7o9SHKmE5DbD"
      },
      "source": [
        "### 성능지표 일괄 출력"
      ]
    },
    {
      "cell_type": "code",
      "metadata": {
        "id": "p0lnBqFA4LEu"
      },
      "source": [
        "from sklearn.metrics import confusion_matrix, accuracy_score, precision_score, recall_score, f1_score\n",
        "from sklearn.metrics import roc_auc_score\n",
        "\n",
        "# get_clf_eval 함수로 성능지표들 한눈에 보기\n",
        "\n",
        "def get_clf_eval(y_test, pred):\n",
        "    confusion = confusion_matrix( y_test, pred)\n",
        "    accuracy = accuracy_score(y_test , pred)\n",
        "    precision = precision_score(y_test , pred)\n",
        "    recall = recall_score(y_test , pred)\n",
        "    f1 = f1_score(y_test,pred)\n",
        "    # ROC-AUC 추가 \n",
        "    roc_auc = roc_auc_score(y_test, pred)\n",
        "    print('오차 행렬')\n",
        "    print(confusion)\n",
        "    # ROC-AUC print 추가\n",
        "    print('정확도: {0:.4f}, 정밀도: {1:.4f}, 재현율: {2:.4f},\\\n",
        "    F1: {3:.4f}, AUC:{4:.4f}'.format(accuracy, precision, recall, f1, roc_auc))\n",
        "    \n",
        "    \n",
        "# get_model_train_eval 함수로 모델 학습과 성능지표(get_clf_eval)한번에 해결\n",
        "def get_model_train_eval(model, ftr_train=None, ftr_test=None, tgt_train=None, tgt_test=None):\n",
        "    model.fit(ftr_train, tgt_train)\n",
        "    pred = model.predict(ftr_test)\n",
        "    get_clf_eval(tgt_test, pred)    "
      ],
      "execution_count": 44,
      "outputs": []
    },
    {
      "cell_type": "code",
      "metadata": {
        "id": "q0ym-gKE4LJl",
        "colab": {
          "base_uri": "https://localhost:8080/"
        },
        "outputId": "f222690a-7a90-4a65-ce89-e81f9e2662bb"
      },
      "source": [
        " from sklearn.metrics import roc_auc_score\n",
        " \n",
        " roc_auc_score(labels, predictions)\n",
        "\n",
        " get_clf_eval(labels,predictions)"
      ],
      "execution_count": 45,
      "outputs": [
        {
          "output_type": "stream",
          "text": [
            "오차 행렬\n",
            "[[3987 1014]\n",
            " [ 110  309]]\n",
            "정확도: 0.7926, 정밀도: 0.2336, 재현율: 0.7375,    F1: 0.3548, AUC:0.7674\n"
          ],
          "name": "stdout"
        }
      ]
    },
    {
      "cell_type": "code",
      "metadata": {
        "id": "JrXZ6XQKiFZn"
      },
      "source": [
        ""
      ],
      "execution_count": 45,
      "outputs": []
    }
  ]
}